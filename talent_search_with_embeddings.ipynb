{
  "nbformat": 4,
  "nbformat_minor": 0,
  "metadata": {
    "colab": {
      "provenance": [],
      "toc_visible": true,
      "mount_file_id": "1iESNKQqsFaF914Uz-A03t30iL-ZjY29q",
      "authorship_tag": "ABX9TyPd0gVyDaFQa2SBDXRrBaYc",
      "include_colab_link": true
    },
    "kernelspec": {
      "name": "python3",
      "display_name": "Python 3"
    },
    "language_info": {
      "name": "python"
    }
  },
  "cells": [
    {
      "cell_type": "markdown",
      "metadata": {
        "id": "view-in-github",
        "colab_type": "text"
      },
      "source": [
        "<a href=\"https://colab.research.google.com/github/Mrcl3/O6EQTwpkNwvulbOa/blob/master/talent_search_with_embeddings.ipynb\" target=\"_parent\"><img src=\"https://colab.research.google.com/assets/colab-badge.svg\" alt=\"Open In Colab\"/></a>"
      ]
    },
    {
      "cell_type": "code",
      "source": [
        "!pip install unidecode\n",
        "!pip install gensim\n",
        "!pip install transformers\n"
      ],
      "metadata": {
        "colab": {
          "base_uri": "https://localhost:8080/"
        },
        "id": "Gi1IL3wWe35s",
        "outputId": "0bff60c2-91af-4454-ae87-4b4422c6ced1"
      },
      "execution_count": 112,
      "outputs": [
        {
          "output_type": "stream",
          "name": "stdout",
          "text": [
            "Looking in indexes: https://pypi.org/simple, https://us-python.pkg.dev/colab-wheels/public/simple/\n",
            "Requirement already satisfied: unidecode in /usr/local/lib/python3.10/dist-packages (1.3.6)\n",
            "Looking in indexes: https://pypi.org/simple, https://us-python.pkg.dev/colab-wheels/public/simple/\n",
            "Requirement already satisfied: gensim in /usr/local/lib/python3.10/dist-packages (4.3.1)\n",
            "Requirement already satisfied: numpy>=1.18.5 in /usr/local/lib/python3.10/dist-packages (from gensim) (1.22.4)\n",
            "Requirement already satisfied: scipy>=1.7.0 in /usr/local/lib/python3.10/dist-packages (from gensim) (1.10.1)\n",
            "Requirement already satisfied: smart-open>=1.8.1 in /usr/local/lib/python3.10/dist-packages (from gensim) (6.3.0)\n",
            "Looking in indexes: https://pypi.org/simple, https://us-python.pkg.dev/colab-wheels/public/simple/\n",
            "Requirement already satisfied: transformers in /usr/local/lib/python3.10/dist-packages (4.29.2)\n",
            "Requirement already satisfied: filelock in /usr/local/lib/python3.10/dist-packages (from transformers) (3.12.0)\n",
            "Requirement already satisfied: huggingface-hub<1.0,>=0.14.1 in /usr/local/lib/python3.10/dist-packages (from transformers) (0.15.1)\n",
            "Requirement already satisfied: numpy>=1.17 in /usr/local/lib/python3.10/dist-packages (from transformers) (1.22.4)\n",
            "Requirement already satisfied: packaging>=20.0 in /usr/local/lib/python3.10/dist-packages (from transformers) (23.1)\n",
            "Requirement already satisfied: pyyaml>=5.1 in /usr/local/lib/python3.10/dist-packages (from transformers) (6.0)\n",
            "Requirement already satisfied: regex!=2019.12.17 in /usr/local/lib/python3.10/dist-packages (from transformers) (2022.10.31)\n",
            "Requirement already satisfied: requests in /usr/local/lib/python3.10/dist-packages (from transformers) (2.27.1)\n",
            "Requirement already satisfied: tokenizers!=0.11.3,<0.14,>=0.11.1 in /usr/local/lib/python3.10/dist-packages (from transformers) (0.13.3)\n",
            "Requirement already satisfied: tqdm>=4.27 in /usr/local/lib/python3.10/dist-packages (from transformers) (4.65.0)\n",
            "Requirement already satisfied: fsspec in /usr/local/lib/python3.10/dist-packages (from huggingface-hub<1.0,>=0.14.1->transformers) (2023.4.0)\n",
            "Requirement already satisfied: typing-extensions>=3.7.4.3 in /usr/local/lib/python3.10/dist-packages (from huggingface-hub<1.0,>=0.14.1->transformers) (4.5.0)\n",
            "Requirement already satisfied: urllib3<1.27,>=1.21.1 in /usr/local/lib/python3.10/dist-packages (from requests->transformers) (1.26.15)\n",
            "Requirement already satisfied: certifi>=2017.4.17 in /usr/local/lib/python3.10/dist-packages (from requests->transformers) (2022.12.7)\n",
            "Requirement already satisfied: charset-normalizer~=2.0.0 in /usr/local/lib/python3.10/dist-packages (from requests->transformers) (2.0.12)\n",
            "Requirement already satisfied: idna<4,>=2.5 in /usr/local/lib/python3.10/dist-packages (from requests->transformers) (3.4)\n"
          ]
        }
      ]
    },
    {
      "cell_type": "code",
      "execution_count": 155,
      "metadata": {
        "id": "gqDmqWFStHpz",
        "colab": {
          "base_uri": "https://localhost:8080/"
        },
        "outputId": "5ed6ba7a-9c2d-42ce-a66e-5f81ed679e82"
      },
      "outputs": [
        {
          "output_type": "stream",
          "name": "stderr",
          "text": [
            "[nltk_data] Downloading package stopwords to /root/nltk_data...\n",
            "[nltk_data]   Package stopwords is already up-to-date!\n",
            "[nltk_data] Downloading package punkt to /root/nltk_data...\n",
            "[nltk_data]   Package punkt is already up-to-date!\n",
            "[nltk_data] Downloading package wordnet to /root/nltk_data...\n",
            "[nltk_data]   Package wordnet is already up-to-date!\n"
          ]
        }
      ],
      "source": [
        "import numpy as np\n",
        "import pandas as pd\n",
        "import nltk\n",
        "from nltk import word_tokenize\n",
        "from nltk.corpus import stopwords\n",
        "nltk.download('stopwords')\n",
        "nltk.download('punkt')\n",
        "nltk.download('wordnet')\n",
        "from unidecode import unidecode\n",
        "import string\n",
        "from nltk.stem import WordNetLemmatizer\n",
        "from gensim.models import Word2Vec\n",
        "\n"
      ]
    },
    {
      "cell_type": "markdown",
      "source": [
        "## Read the data"
      ],
      "metadata": {
        "id": "a_KxV9F1dtj0"
      }
    },
    {
      "cell_type": "code",
      "source": [
        "df = pd.read_csv('/content/drive/MyDrive/Aprziva/O6EQTwpkNwvulbOa/potential-talents - Aspiring human resources - seeking human resources.csv')"
      ],
      "metadata": {
        "id": "ENEzG2OAct71"
      },
      "execution_count": 156,
      "outputs": []
    },
    {
      "cell_type": "markdown",
      "source": [
        "## Define the sentence to be checked"
      ],
      "metadata": {
        "id": "AmzcrvoJdqhL"
      }
    },
    {
      "cell_type": "markdown",
      "source": [
        "# Preprocessing"
      ],
      "metadata": {
        "id": "Euh3qZuPdxzj"
      }
    },
    {
      "cell_type": "code",
      "source": [
        "df.head()"
      ],
      "metadata": {
        "colab": {
          "base_uri": "https://localhost:8080/",
          "height": 206
        },
        "id": "tlawWwv2d1t_",
        "outputId": "11990b2e-a80f-45fb-bb01-f05be962ebfe"
      },
      "execution_count": 157,
      "outputs": [
        {
          "output_type": "execute_result",
          "data": {
            "text/plain": [
              "   id                                          job_title  \\\n",
              "0   1  2019 C.T. Bauer College of Business Graduate (...   \n",
              "1   2  Native English Teacher at EPIK (English Progra...   \n",
              "2   3              Aspiring Human Resources Professional   \n",
              "3   4             People Development Coordinator at Ryan   \n",
              "4   5    Advisory Board Member at Celal Bayar University   \n",
              "\n",
              "                              location connection  fit  \n",
              "0                       Houston, Texas         85  NaN  \n",
              "1                               Kanada      500+   NaN  \n",
              "2  Raleigh-Durham, North Carolina Area         44  NaN  \n",
              "3                        Denton, Texas      500+   NaN  \n",
              "4                       İzmir, Türkiye      500+   NaN  "
            ],
            "text/html": [
              "\n",
              "  <div id=\"df-09546e93-c78b-46ad-83cb-d8675174af4b\">\n",
              "    <div class=\"colab-df-container\">\n",
              "      <div>\n",
              "<style scoped>\n",
              "    .dataframe tbody tr th:only-of-type {\n",
              "        vertical-align: middle;\n",
              "    }\n",
              "\n",
              "    .dataframe tbody tr th {\n",
              "        vertical-align: top;\n",
              "    }\n",
              "\n",
              "    .dataframe thead th {\n",
              "        text-align: right;\n",
              "    }\n",
              "</style>\n",
              "<table border=\"1\" class=\"dataframe\">\n",
              "  <thead>\n",
              "    <tr style=\"text-align: right;\">\n",
              "      <th></th>\n",
              "      <th>id</th>\n",
              "      <th>job_title</th>\n",
              "      <th>location</th>\n",
              "      <th>connection</th>\n",
              "      <th>fit</th>\n",
              "    </tr>\n",
              "  </thead>\n",
              "  <tbody>\n",
              "    <tr>\n",
              "      <th>0</th>\n",
              "      <td>1</td>\n",
              "      <td>2019 C.T. Bauer College of Business Graduate (...</td>\n",
              "      <td>Houston, Texas</td>\n",
              "      <td>85</td>\n",
              "      <td>NaN</td>\n",
              "    </tr>\n",
              "    <tr>\n",
              "      <th>1</th>\n",
              "      <td>2</td>\n",
              "      <td>Native English Teacher at EPIK (English Progra...</td>\n",
              "      <td>Kanada</td>\n",
              "      <td>500+</td>\n",
              "      <td>NaN</td>\n",
              "    </tr>\n",
              "    <tr>\n",
              "      <th>2</th>\n",
              "      <td>3</td>\n",
              "      <td>Aspiring Human Resources Professional</td>\n",
              "      <td>Raleigh-Durham, North Carolina Area</td>\n",
              "      <td>44</td>\n",
              "      <td>NaN</td>\n",
              "    </tr>\n",
              "    <tr>\n",
              "      <th>3</th>\n",
              "      <td>4</td>\n",
              "      <td>People Development Coordinator at Ryan</td>\n",
              "      <td>Denton, Texas</td>\n",
              "      <td>500+</td>\n",
              "      <td>NaN</td>\n",
              "    </tr>\n",
              "    <tr>\n",
              "      <th>4</th>\n",
              "      <td>5</td>\n",
              "      <td>Advisory Board Member at Celal Bayar University</td>\n",
              "      <td>İzmir, Türkiye</td>\n",
              "      <td>500+</td>\n",
              "      <td>NaN</td>\n",
              "    </tr>\n",
              "  </tbody>\n",
              "</table>\n",
              "</div>\n",
              "      <button class=\"colab-df-convert\" onclick=\"convertToInteractive('df-09546e93-c78b-46ad-83cb-d8675174af4b')\"\n",
              "              title=\"Convert this dataframe to an interactive table.\"\n",
              "              style=\"display:none;\">\n",
              "        \n",
              "  <svg xmlns=\"http://www.w3.org/2000/svg\" height=\"24px\"viewBox=\"0 0 24 24\"\n",
              "       width=\"24px\">\n",
              "    <path d=\"M0 0h24v24H0V0z\" fill=\"none\"/>\n",
              "    <path d=\"M18.56 5.44l.94 2.06.94-2.06 2.06-.94-2.06-.94-.94-2.06-.94 2.06-2.06.94zm-11 1L8.5 8.5l.94-2.06 2.06-.94-2.06-.94L8.5 2.5l-.94 2.06-2.06.94zm10 10l.94 2.06.94-2.06 2.06-.94-2.06-.94-.94-2.06-.94 2.06-2.06.94z\"/><path d=\"M17.41 7.96l-1.37-1.37c-.4-.4-.92-.59-1.43-.59-.52 0-1.04.2-1.43.59L10.3 9.45l-7.72 7.72c-.78.78-.78 2.05 0 2.83L4 21.41c.39.39.9.59 1.41.59.51 0 1.02-.2 1.41-.59l7.78-7.78 2.81-2.81c.8-.78.8-2.07 0-2.86zM5.41 20L4 18.59l7.72-7.72 1.47 1.35L5.41 20z\"/>\n",
              "  </svg>\n",
              "      </button>\n",
              "      \n",
              "  <style>\n",
              "    .colab-df-container {\n",
              "      display:flex;\n",
              "      flex-wrap:wrap;\n",
              "      gap: 12px;\n",
              "    }\n",
              "\n",
              "    .colab-df-convert {\n",
              "      background-color: #E8F0FE;\n",
              "      border: none;\n",
              "      border-radius: 50%;\n",
              "      cursor: pointer;\n",
              "      display: none;\n",
              "      fill: #1967D2;\n",
              "      height: 32px;\n",
              "      padding: 0 0 0 0;\n",
              "      width: 32px;\n",
              "    }\n",
              "\n",
              "    .colab-df-convert:hover {\n",
              "      background-color: #E2EBFA;\n",
              "      box-shadow: 0px 1px 2px rgba(60, 64, 67, 0.3), 0px 1px 3px 1px rgba(60, 64, 67, 0.15);\n",
              "      fill: #174EA6;\n",
              "    }\n",
              "\n",
              "    [theme=dark] .colab-df-convert {\n",
              "      background-color: #3B4455;\n",
              "      fill: #D2E3FC;\n",
              "    }\n",
              "\n",
              "    [theme=dark] .colab-df-convert:hover {\n",
              "      background-color: #434B5C;\n",
              "      box-shadow: 0px 1px 3px 1px rgba(0, 0, 0, 0.15);\n",
              "      filter: drop-shadow(0px 1px 2px rgba(0, 0, 0, 0.3));\n",
              "      fill: #FFFFFF;\n",
              "    }\n",
              "  </style>\n",
              "\n",
              "      <script>\n",
              "        const buttonEl =\n",
              "          document.querySelector('#df-09546e93-c78b-46ad-83cb-d8675174af4b button.colab-df-convert');\n",
              "        buttonEl.style.display =\n",
              "          google.colab.kernel.accessAllowed ? 'block' : 'none';\n",
              "\n",
              "        async function convertToInteractive(key) {\n",
              "          const element = document.querySelector('#df-09546e93-c78b-46ad-83cb-d8675174af4b');\n",
              "          const dataTable =\n",
              "            await google.colab.kernel.invokeFunction('convertToInteractive',\n",
              "                                                     [key], {});\n",
              "          if (!dataTable) return;\n",
              "\n",
              "          const docLinkHtml = 'Like what you see? Visit the ' +\n",
              "            '<a target=\"_blank\" href=https://colab.research.google.com/notebooks/data_table.ipynb>data table notebook</a>'\n",
              "            + ' to learn more about interactive tables.';\n",
              "          element.innerHTML = '';\n",
              "          dataTable['output_type'] = 'display_data';\n",
              "          await google.colab.output.renderOutput(dataTable, element);\n",
              "          const docLink = document.createElement('div');\n",
              "          docLink.innerHTML = docLinkHtml;\n",
              "          element.appendChild(docLink);\n",
              "        }\n",
              "      </script>\n",
              "    </div>\n",
              "  </div>\n",
              "  "
            ]
          },
          "metadata": {},
          "execution_count": 157
        }
      ]
    },
    {
      "cell_type": "code",
      "source": [
        "df.shape"
      ],
      "metadata": {
        "colab": {
          "base_uri": "https://localhost:8080/"
        },
        "id": "axIjyP4fd3ft",
        "outputId": "2fe0877e-ee9c-4b60-e581-df1eb5516791"
      },
      "execution_count": 158,
      "outputs": [
        {
          "output_type": "execute_result",
          "data": {
            "text/plain": [
              "(104, 5)"
            ]
          },
          "metadata": {},
          "execution_count": 158
        }
      ]
    },
    {
      "cell_type": "code",
      "source": [
        "df.duplicated().sum()"
      ],
      "metadata": {
        "colab": {
          "base_uri": "https://localhost:8080/"
        },
        "id": "zH_kzoeSzguG",
        "outputId": "132362c1-a639-49f4-83be-750ab13a99d9"
      },
      "execution_count": 159,
      "outputs": [
        {
          "output_type": "execute_result",
          "data": {
            "text/plain": [
              "0"
            ]
          },
          "metadata": {},
          "execution_count": 159
        }
      ]
    },
    {
      "cell_type": "code",
      "source": [
        "from nltk.corpus import stopwords\n",
        "from nltk.tokenize import word_tokenize\n",
        "from nltk.stem import WordNetLemmatizer\n",
        "import string\n",
        "from unidecode import unidecode\n",
        "\n",
        "def preprocess(sentence):\n",
        "    # Converting the words to lowercase\n",
        "    sentence = sentence.lower()\n",
        "    \n",
        "    # Collecting a list of stop words from nltk and punctuation from the string class\n",
        "    stopset = stopwords.words('english') + list(string.punctuation)\n",
        "    \n",
        "    # Remove stop words and punctuations from the string\n",
        "    words = word_tokenize(sentence)\n",
        "    words = [i for i in words if i.lower() not in stopset and not any(char in string.punctuation for char in i)]\n",
        "    new_sentence = \" \".join(words)\n",
        "    \n",
        "    # Remove non-ASCII characters\n",
        "    new_sentence = unidecode(new_sentence)\n",
        "    \n",
        "    # Lemmatize the words\n",
        "    lemmatizer = WordNetLemmatizer()\n",
        "    words = word_tokenize(new_sentence)\n",
        "    words = [lemmatizer.lemmatize(word) for word in words]\n",
        "    \n",
        "    return \" \".join(words)\n",
        "\n"
      ],
      "metadata": {
        "id": "J-arwUx1d4V6"
      },
      "execution_count": 160,
      "outputs": []
    },
    {
      "cell_type": "code",
      "source": [
        "df['job_title'] = df['job_title'].apply(preprocess)\n"
      ],
      "metadata": {
        "id": "VSPlyjHoeshX"
      },
      "execution_count": 161,
      "outputs": []
    },
    {
      "cell_type": "markdown",
      "source": [
        "# Word2Vec model"
      ],
      "metadata": {
        "id": "LdQXqOf8BL17"
      }
    },
    {
      "cell_type": "code",
      "source": [
        "sentences = []\n",
        "for item in df['job_title'].values:\n",
        "  # Tokenize the sentence into a list of words\n",
        "  words = nltk.word_tokenize(item)\n",
        "    \n",
        "  # Add the list of words to the sentences list\n",
        "  sentences.append(words)\n",
        "  model= Word2Vec(sentences,min_count=1,vector_size=300,workers=4)\n",
        "\n"
      ],
      "metadata": {
        "id": "L7V3-0NsfZhN"
      },
      "execution_count": 162,
      "outputs": []
    },
    {
      "cell_type": "code",
      "source": [
        "print(model)"
      ],
      "metadata": {
        "colab": {
          "base_uri": "https://localhost:8080/"
        },
        "id": "F0S7B8Ymk5-x",
        "outputId": "ea8772bc-02e2-47bb-b593-4b024e283ac7"
      },
      "execution_count": 163,
      "outputs": [
        {
          "output_type": "stream",
          "name": "stdout",
          "text": [
            "Word2Vec<vocab=172, vector_size=300, alpha=0.025>\n"
          ]
        }
      ]
    },
    {
      "cell_type": "code",
      "source": [
        "model.save(\"word2vec.model\")\n",
        "model.save(\"model.bin\")"
      ],
      "metadata": {
        "id": "vda1-wtrnRoY"
      },
      "execution_count": 164,
      "outputs": []
    },
    {
      "cell_type": "code",
      "source": [
        "model = Word2Vec.load('model.bin')"
      ],
      "metadata": {
        "id": "pA7ou9LvnaGb"
      },
      "execution_count": 165,
      "outputs": []
    },
    {
      "cell_type": "markdown",
      "source": [
        "# Using the model to calculate similarities"
      ],
      "metadata": {
        "id": "P8IzktlEBHWz"
      }
    },
    {
      "cell_type": "code",
      "source": [
        "similarity_array = []\n",
        "# Define two example sentences\n",
        "sentence2 = \"aspiring human resources\"\n",
        "for item in df['job_title'].values:\n",
        "  # Tokenize the sentences into lists of words\n",
        "  tokens1 = nltk.word_tokenize(item)\n",
        "  tokens2 = nltk.word_tokenize(sentence2)\n",
        "\n",
        "  # Calculate the similarity between the two sentences\n",
        "  similarity = model.wv.n_similarity(tokens1, tokens2)\n",
        "  similarity_array.append(similarity)\n",
        "df['similarities'] = similarity_array"
      ],
      "metadata": {
        "id": "8fi7vjb8nhx6"
      },
      "execution_count": 166,
      "outputs": []
    },
    {
      "cell_type": "code",
      "source": [
        "df.tail(5)"
      ],
      "metadata": {
        "colab": {
          "base_uri": "https://localhost:8080/",
          "height": 206
        },
        "id": "sXnga8QQuM6g",
        "outputId": "2e0b01d5-8009-4806-f80c-97b62c1f2f89"
      },
      "execution_count": 167,
      "outputs": [
        {
          "output_type": "execute_result",
          "data": {
            "text/plain": [
              "      id                                          job_title  \\\n",
              "99   100  aspiring human resource manager graduating may...   \n",
              "100  101                  human resource generalist loparex   \n",
              "101  102           business intelligence analytics traveler   \n",
              "102  103                                 always set success   \n",
              "103  104         director administration excellence logging   \n",
              "\n",
              "                                location connection  fit  similarities  \n",
              "99              Cape Girardeau, Missouri        103  NaN      0.565562  \n",
              "100  Raleigh-Durham, North Carolina Area      500+   NaN      0.409442  \n",
              "101           Greater New York City Area         49  NaN      0.062707  \n",
              "102             Greater Los Angeles Area      500+   NaN      0.000582  \n",
              "103                          Katy, Texas      500+   NaN      0.073247  "
            ],
            "text/html": [
              "\n",
              "  <div id=\"df-2d1b8f2e-b28f-4ce8-92ad-0e2ef283e552\">\n",
              "    <div class=\"colab-df-container\">\n",
              "      <div>\n",
              "<style scoped>\n",
              "    .dataframe tbody tr th:only-of-type {\n",
              "        vertical-align: middle;\n",
              "    }\n",
              "\n",
              "    .dataframe tbody tr th {\n",
              "        vertical-align: top;\n",
              "    }\n",
              "\n",
              "    .dataframe thead th {\n",
              "        text-align: right;\n",
              "    }\n",
              "</style>\n",
              "<table border=\"1\" class=\"dataframe\">\n",
              "  <thead>\n",
              "    <tr style=\"text-align: right;\">\n",
              "      <th></th>\n",
              "      <th>id</th>\n",
              "      <th>job_title</th>\n",
              "      <th>location</th>\n",
              "      <th>connection</th>\n",
              "      <th>fit</th>\n",
              "      <th>similarities</th>\n",
              "    </tr>\n",
              "  </thead>\n",
              "  <tbody>\n",
              "    <tr>\n",
              "      <th>99</th>\n",
              "      <td>100</td>\n",
              "      <td>aspiring human resource manager graduating may...</td>\n",
              "      <td>Cape Girardeau, Missouri</td>\n",
              "      <td>103</td>\n",
              "      <td>NaN</td>\n",
              "      <td>0.565562</td>\n",
              "    </tr>\n",
              "    <tr>\n",
              "      <th>100</th>\n",
              "      <td>101</td>\n",
              "      <td>human resource generalist loparex</td>\n",
              "      <td>Raleigh-Durham, North Carolina Area</td>\n",
              "      <td>500+</td>\n",
              "      <td>NaN</td>\n",
              "      <td>0.409442</td>\n",
              "    </tr>\n",
              "    <tr>\n",
              "      <th>101</th>\n",
              "      <td>102</td>\n",
              "      <td>business intelligence analytics traveler</td>\n",
              "      <td>Greater New York City Area</td>\n",
              "      <td>49</td>\n",
              "      <td>NaN</td>\n",
              "      <td>0.062707</td>\n",
              "    </tr>\n",
              "    <tr>\n",
              "      <th>102</th>\n",
              "      <td>103</td>\n",
              "      <td>always set success</td>\n",
              "      <td>Greater Los Angeles Area</td>\n",
              "      <td>500+</td>\n",
              "      <td>NaN</td>\n",
              "      <td>0.000582</td>\n",
              "    </tr>\n",
              "    <tr>\n",
              "      <th>103</th>\n",
              "      <td>104</td>\n",
              "      <td>director administration excellence logging</td>\n",
              "      <td>Katy, Texas</td>\n",
              "      <td>500+</td>\n",
              "      <td>NaN</td>\n",
              "      <td>0.073247</td>\n",
              "    </tr>\n",
              "  </tbody>\n",
              "</table>\n",
              "</div>\n",
              "      <button class=\"colab-df-convert\" onclick=\"convertToInteractive('df-2d1b8f2e-b28f-4ce8-92ad-0e2ef283e552')\"\n",
              "              title=\"Convert this dataframe to an interactive table.\"\n",
              "              style=\"display:none;\">\n",
              "        \n",
              "  <svg xmlns=\"http://www.w3.org/2000/svg\" height=\"24px\"viewBox=\"0 0 24 24\"\n",
              "       width=\"24px\">\n",
              "    <path d=\"M0 0h24v24H0V0z\" fill=\"none\"/>\n",
              "    <path d=\"M18.56 5.44l.94 2.06.94-2.06 2.06-.94-2.06-.94-.94-2.06-.94 2.06-2.06.94zm-11 1L8.5 8.5l.94-2.06 2.06-.94-2.06-.94L8.5 2.5l-.94 2.06-2.06.94zm10 10l.94 2.06.94-2.06 2.06-.94-2.06-.94-.94-2.06-.94 2.06-2.06.94z\"/><path d=\"M17.41 7.96l-1.37-1.37c-.4-.4-.92-.59-1.43-.59-.52 0-1.04.2-1.43.59L10.3 9.45l-7.72 7.72c-.78.78-.78 2.05 0 2.83L4 21.41c.39.39.9.59 1.41.59.51 0 1.02-.2 1.41-.59l7.78-7.78 2.81-2.81c.8-.78.8-2.07 0-2.86zM5.41 20L4 18.59l7.72-7.72 1.47 1.35L5.41 20z\"/>\n",
              "  </svg>\n",
              "      </button>\n",
              "      \n",
              "  <style>\n",
              "    .colab-df-container {\n",
              "      display:flex;\n",
              "      flex-wrap:wrap;\n",
              "      gap: 12px;\n",
              "    }\n",
              "\n",
              "    .colab-df-convert {\n",
              "      background-color: #E8F0FE;\n",
              "      border: none;\n",
              "      border-radius: 50%;\n",
              "      cursor: pointer;\n",
              "      display: none;\n",
              "      fill: #1967D2;\n",
              "      height: 32px;\n",
              "      padding: 0 0 0 0;\n",
              "      width: 32px;\n",
              "    }\n",
              "\n",
              "    .colab-df-convert:hover {\n",
              "      background-color: #E2EBFA;\n",
              "      box-shadow: 0px 1px 2px rgba(60, 64, 67, 0.3), 0px 1px 3px 1px rgba(60, 64, 67, 0.15);\n",
              "      fill: #174EA6;\n",
              "    }\n",
              "\n",
              "    [theme=dark] .colab-df-convert {\n",
              "      background-color: #3B4455;\n",
              "      fill: #D2E3FC;\n",
              "    }\n",
              "\n",
              "    [theme=dark] .colab-df-convert:hover {\n",
              "      background-color: #434B5C;\n",
              "      box-shadow: 0px 1px 3px 1px rgba(0, 0, 0, 0.15);\n",
              "      filter: drop-shadow(0px 1px 2px rgba(0, 0, 0, 0.3));\n",
              "      fill: #FFFFFF;\n",
              "    }\n",
              "  </style>\n",
              "\n",
              "      <script>\n",
              "        const buttonEl =\n",
              "          document.querySelector('#df-2d1b8f2e-b28f-4ce8-92ad-0e2ef283e552 button.colab-df-convert');\n",
              "        buttonEl.style.display =\n",
              "          google.colab.kernel.accessAllowed ? 'block' : 'none';\n",
              "\n",
              "        async function convertToInteractive(key) {\n",
              "          const element = document.querySelector('#df-2d1b8f2e-b28f-4ce8-92ad-0e2ef283e552');\n",
              "          const dataTable =\n",
              "            await google.colab.kernel.invokeFunction('convertToInteractive',\n",
              "                                                     [key], {});\n",
              "          if (!dataTable) return;\n",
              "\n",
              "          const docLinkHtml = 'Like what you see? Visit the ' +\n",
              "            '<a target=\"_blank\" href=https://colab.research.google.com/notebooks/data_table.ipynb>data table notebook</a>'\n",
              "            + ' to learn more about interactive tables.';\n",
              "          element.innerHTML = '';\n",
              "          dataTable['output_type'] = 'display_data';\n",
              "          await google.colab.output.renderOutput(dataTable, element);\n",
              "          const docLink = document.createElement('div');\n",
              "          docLink.innerHTML = docLinkHtml;\n",
              "          element.appendChild(docLink);\n",
              "        }\n",
              "      </script>\n",
              "    </div>\n",
              "  </div>\n",
              "  "
            ]
          },
          "metadata": {},
          "execution_count": 167
        }
      ]
    },
    {
      "cell_type": "markdown",
      "source": [
        "# Basic fit ranking (similarities + connection scaled to (0,1)"
      ],
      "metadata": {
        "id": "_LkeVGoZA45u"
      }
    },
    {
      "cell_type": "code",
      "source": [
        "from sklearn.preprocessing import MinMaxScaler\n",
        "\n",
        "#Select the input features for ranking\n",
        "features = ['similarities', 'connection']\n",
        "\n",
        "# Replace '500+' with 500 in the 'connections' column\n",
        "df['connection'] = df['connection'].replace('500+ ', '500')\n",
        "\n",
        "df['connection'] = pd.to_numeric(df['connection'])\n",
        "print(df['connection'])\n",
        "# Scale the 'connections' column to a range of 0 to 1\n",
        "scaler = MinMaxScaler()\n",
        "df['connection'] = scaler.fit_transform(df['connection'].values.reshape(-1, 1))\n",
        "\n",
        "# Normalize the remaining features to a range of 0 to 1\n",
        "df[features] = scaler.fit_transform(df[features])\n",
        "\n",
        "# Calculate the ranking score\n",
        "df['ranking'] = df['similarities'] * df['connection']\n",
        "\n",
        "# Normalize the ranking score to a range of 0 to 1\n",
        "df['ranking'] = scaler.fit_transform(df['ranking'].values.reshape(-1, 1))\n",
        "\n",
        "# Print the ranked candidates\n",
        "print(df[['job_title', 'ranking']])\n"
      ],
      "metadata": {
        "colab": {
          "base_uri": "https://localhost:8080/"
        },
        "id": "tVTg1CadvWBc",
        "outputId": "9740a9da-ee91-4e52-9b2a-168633b24607"
      },
      "execution_count": 169,
      "outputs": [
        {
          "output_type": "stream",
          "name": "stdout",
          "text": [
            "0      0.168337\n",
            "1      1.000000\n",
            "2      0.086172\n",
            "3      1.000000\n",
            "4      1.000000\n",
            "         ...   \n",
            "99     0.204409\n",
            "100    1.000000\n",
            "101    0.096192\n",
            "102    1.000000\n",
            "103    1.000000\n",
            "Name: connection, Length: 104, dtype: float64\n",
            "                                             job_title   ranking\n",
            "0    2019 bauer college business graduate magna cum...  0.165205\n",
            "1    native english teacher epik english program korea  0.273624\n",
            "2                 aspiring human resource professional  0.116683\n",
            "3                  people development coordinator ryan  0.000000\n",
            "4         advisory board member celal bayar university  0.136236\n",
            "..                                                 ...       ...\n",
            "99   aspiring human resource manager graduating may...  0.211271\n",
            "100                  human resource generalist loparex  0.773300\n",
            "101           business intelligence analytics traveler  0.018782\n",
            "102                                 always set success  0.091685\n",
            "103         director administration excellence logging  0.212826\n",
            "\n",
            "[104 rows x 2 columns]\n"
          ]
        }
      ]
    },
    {
      "cell_type": "code",
      "source": [
        "df.head()"
      ],
      "metadata": {
        "colab": {
          "base_uri": "https://localhost:8080/",
          "height": 206
        },
        "id": "79sP_NZhepQN",
        "outputId": "39657ce1-549b-4c11-dbad-6eb2f682b1d1"
      },
      "execution_count": 170,
      "outputs": [
        {
          "output_type": "execute_result",
          "data": {
            "text/plain": [
              "   id                                          job_title  \\\n",
              "0   1  2019 bauer college business graduate magna cum...   \n",
              "1   2  native english teacher epik english program korea   \n",
              "2   3               aspiring human resource professional   \n",
              "3   4                people development coordinator ryan   \n",
              "4   5       advisory board member celal bayar university   \n",
              "\n",
              "                              location  connection  fit  similarities  \\\n",
              "0                       Houston, Texas    0.168337  NaN      0.724779   \n",
              "1                               Kanada    1.000000  NaN      0.202076   \n",
              "2  Raleigh-Durham, North Carolina Area    0.086172  NaN      1.000000   \n",
              "3                        Denton, Texas    1.000000  NaN      0.000000   \n",
              "4                       İzmir, Türkiye    1.000000  NaN      0.100613   \n",
              "\n",
              "    ranking  \n",
              "0  0.165205  \n",
              "1  0.273624  \n",
              "2  0.116683  \n",
              "3  0.000000  \n",
              "4  0.136236  "
            ],
            "text/html": [
              "\n",
              "  <div id=\"df-bdd391ac-1578-4926-a48d-ddf0d18bbb6a\">\n",
              "    <div class=\"colab-df-container\">\n",
              "      <div>\n",
              "<style scoped>\n",
              "    .dataframe tbody tr th:only-of-type {\n",
              "        vertical-align: middle;\n",
              "    }\n",
              "\n",
              "    .dataframe tbody tr th {\n",
              "        vertical-align: top;\n",
              "    }\n",
              "\n",
              "    .dataframe thead th {\n",
              "        text-align: right;\n",
              "    }\n",
              "</style>\n",
              "<table border=\"1\" class=\"dataframe\">\n",
              "  <thead>\n",
              "    <tr style=\"text-align: right;\">\n",
              "      <th></th>\n",
              "      <th>id</th>\n",
              "      <th>job_title</th>\n",
              "      <th>location</th>\n",
              "      <th>connection</th>\n",
              "      <th>fit</th>\n",
              "      <th>similarities</th>\n",
              "      <th>ranking</th>\n",
              "    </tr>\n",
              "  </thead>\n",
              "  <tbody>\n",
              "    <tr>\n",
              "      <th>0</th>\n",
              "      <td>1</td>\n",
              "      <td>2019 bauer college business graduate magna cum...</td>\n",
              "      <td>Houston, Texas</td>\n",
              "      <td>0.168337</td>\n",
              "      <td>NaN</td>\n",
              "      <td>0.724779</td>\n",
              "      <td>0.165205</td>\n",
              "    </tr>\n",
              "    <tr>\n",
              "      <th>1</th>\n",
              "      <td>2</td>\n",
              "      <td>native english teacher epik english program korea</td>\n",
              "      <td>Kanada</td>\n",
              "      <td>1.000000</td>\n",
              "      <td>NaN</td>\n",
              "      <td>0.202076</td>\n",
              "      <td>0.273624</td>\n",
              "    </tr>\n",
              "    <tr>\n",
              "      <th>2</th>\n",
              "      <td>3</td>\n",
              "      <td>aspiring human resource professional</td>\n",
              "      <td>Raleigh-Durham, North Carolina Area</td>\n",
              "      <td>0.086172</td>\n",
              "      <td>NaN</td>\n",
              "      <td>1.000000</td>\n",
              "      <td>0.116683</td>\n",
              "    </tr>\n",
              "    <tr>\n",
              "      <th>3</th>\n",
              "      <td>4</td>\n",
              "      <td>people development coordinator ryan</td>\n",
              "      <td>Denton, Texas</td>\n",
              "      <td>1.000000</td>\n",
              "      <td>NaN</td>\n",
              "      <td>0.000000</td>\n",
              "      <td>0.000000</td>\n",
              "    </tr>\n",
              "    <tr>\n",
              "      <th>4</th>\n",
              "      <td>5</td>\n",
              "      <td>advisory board member celal bayar university</td>\n",
              "      <td>İzmir, Türkiye</td>\n",
              "      <td>1.000000</td>\n",
              "      <td>NaN</td>\n",
              "      <td>0.100613</td>\n",
              "      <td>0.136236</td>\n",
              "    </tr>\n",
              "  </tbody>\n",
              "</table>\n",
              "</div>\n",
              "      <button class=\"colab-df-convert\" onclick=\"convertToInteractive('df-bdd391ac-1578-4926-a48d-ddf0d18bbb6a')\"\n",
              "              title=\"Convert this dataframe to an interactive table.\"\n",
              "              style=\"display:none;\">\n",
              "        \n",
              "  <svg xmlns=\"http://www.w3.org/2000/svg\" height=\"24px\"viewBox=\"0 0 24 24\"\n",
              "       width=\"24px\">\n",
              "    <path d=\"M0 0h24v24H0V0z\" fill=\"none\"/>\n",
              "    <path d=\"M18.56 5.44l.94 2.06.94-2.06 2.06-.94-2.06-.94-.94-2.06-.94 2.06-2.06.94zm-11 1L8.5 8.5l.94-2.06 2.06-.94-2.06-.94L8.5 2.5l-.94 2.06-2.06.94zm10 10l.94 2.06.94-2.06 2.06-.94-2.06-.94-.94-2.06-.94 2.06-2.06.94z\"/><path d=\"M17.41 7.96l-1.37-1.37c-.4-.4-.92-.59-1.43-.59-.52 0-1.04.2-1.43.59L10.3 9.45l-7.72 7.72c-.78.78-.78 2.05 0 2.83L4 21.41c.39.39.9.59 1.41.59.51 0 1.02-.2 1.41-.59l7.78-7.78 2.81-2.81c.8-.78.8-2.07 0-2.86zM5.41 20L4 18.59l7.72-7.72 1.47 1.35L5.41 20z\"/>\n",
              "  </svg>\n",
              "      </button>\n",
              "      \n",
              "  <style>\n",
              "    .colab-df-container {\n",
              "      display:flex;\n",
              "      flex-wrap:wrap;\n",
              "      gap: 12px;\n",
              "    }\n",
              "\n",
              "    .colab-df-convert {\n",
              "      background-color: #E8F0FE;\n",
              "      border: none;\n",
              "      border-radius: 50%;\n",
              "      cursor: pointer;\n",
              "      display: none;\n",
              "      fill: #1967D2;\n",
              "      height: 32px;\n",
              "      padding: 0 0 0 0;\n",
              "      width: 32px;\n",
              "    }\n",
              "\n",
              "    .colab-df-convert:hover {\n",
              "      background-color: #E2EBFA;\n",
              "      box-shadow: 0px 1px 2px rgba(60, 64, 67, 0.3), 0px 1px 3px 1px rgba(60, 64, 67, 0.15);\n",
              "      fill: #174EA6;\n",
              "    }\n",
              "\n",
              "    [theme=dark] .colab-df-convert {\n",
              "      background-color: #3B4455;\n",
              "      fill: #D2E3FC;\n",
              "    }\n",
              "\n",
              "    [theme=dark] .colab-df-convert:hover {\n",
              "      background-color: #434B5C;\n",
              "      box-shadow: 0px 1px 3px 1px rgba(0, 0, 0, 0.15);\n",
              "      filter: drop-shadow(0px 1px 2px rgba(0, 0, 0, 0.3));\n",
              "      fill: #FFFFFF;\n",
              "    }\n",
              "  </style>\n",
              "\n",
              "      <script>\n",
              "        const buttonEl =\n",
              "          document.querySelector('#df-bdd391ac-1578-4926-a48d-ddf0d18bbb6a button.colab-df-convert');\n",
              "        buttonEl.style.display =\n",
              "          google.colab.kernel.accessAllowed ? 'block' : 'none';\n",
              "\n",
              "        async function convertToInteractive(key) {\n",
              "          const element = document.querySelector('#df-bdd391ac-1578-4926-a48d-ddf0d18bbb6a');\n",
              "          const dataTable =\n",
              "            await google.colab.kernel.invokeFunction('convertToInteractive',\n",
              "                                                     [key], {});\n",
              "          if (!dataTable) return;\n",
              "\n",
              "          const docLinkHtml = 'Like what you see? Visit the ' +\n",
              "            '<a target=\"_blank\" href=https://colab.research.google.com/notebooks/data_table.ipynb>data table notebook</a>'\n",
              "            + ' to learn more about interactive tables.';\n",
              "          element.innerHTML = '';\n",
              "          dataTable['output_type'] = 'display_data';\n",
              "          await google.colab.output.renderOutput(dataTable, element);\n",
              "          const docLink = document.createElement('div');\n",
              "          docLink.innerHTML = docLinkHtml;\n",
              "          element.appendChild(docLink);\n",
              "        }\n",
              "      </script>\n",
              "    </div>\n",
              "  </div>\n",
              "  "
            ]
          },
          "metadata": {},
          "execution_count": 170
        }
      ]
    },
    {
      "cell_type": "markdown",
      "source": [
        "# Job titles ranking"
      ],
      "metadata": {
        "id": "4qKDuvdlAxYu"
      }
    },
    {
      "cell_type": "code",
      "source": [
        "# Sort the DataFrame in ascending order based on a column\n",
        "df_sorted = df.sort_values('ranking', ascending=False)\n",
        "\n",
        "# Print the sorted DataFrame\n",
        "print(df_sorted[['job_title', 'ranking', 'similarities', 'connection']])"
      ],
      "metadata": {
        "colab": {
          "base_uri": "https://localhost:8080/"
        },
        "id": "P4m1P-ooxVYd",
        "outputId": "d58d9058-0f37-4a77-ada6-3804195489e3"
      },
      "execution_count": 173,
      "outputs": [
        {
          "output_type": "stream",
          "name": "stdout",
          "text": [
            "                                             job_title   ranking  \\\n",
            "28   aspiring human resource management student see...  1.000000   \n",
            "26   aspiring human resource management student see...  1.000000   \n",
            "66     human resource staffing recruiting professional  0.797249   \n",
            "100                  human resource generalist loparex  0.773300   \n",
            "70           human resource generalist scottmadden inc  0.729565   \n",
            "..                                                 ...       ...   \n",
            "48                  aspiring human resource specialist  0.000000   \n",
            "46                 people development coordinator ryan  0.000000   \n",
            "59                  aspiring human resource specialist  0.000000   \n",
            "35                  aspiring human resource specialist  0.000000   \n",
            "21                 people development coordinator ryan  0.000000   \n",
            "\n",
            "     similarities  connection  \n",
            "28       0.738516         1.0  \n",
            "26       0.738516         1.0  \n",
            "66       0.588782         1.0  \n",
            "100      0.571095         1.0  \n",
            "70       0.538796         1.0  \n",
            "..            ...         ...  \n",
            "48       0.938688         0.0  \n",
            "46       0.000000         1.0  \n",
            "59       0.938688         0.0  \n",
            "35       0.938688         0.0  \n",
            "21       0.000000         1.0  \n",
            "\n",
            "[104 rows x 4 columns]\n"
          ]
        }
      ]
    },
    {
      "cell_type": "markdown",
      "source": [
        "# Try with BERT"
      ],
      "metadata": {
        "id": "8GubyMGvNLGa"
      }
    },
    {
      "cell_type": "code",
      "source": [
        "import pandas as pd\n",
        "import torch\n",
        "from sklearn.metrics.pairwise import cosine_similarity\n",
        "from transformers import BertModel, BertTokenizer\n",
        "\n",
        "# Load the pre-trained BERT model and tokenizer\n",
        "model_name = 'bert-base-uncased'\n",
        "tokenizer = BertTokenizer.from_pretrained(model_name)\n",
        "model = BertModel.from_pretrained(model_name)\n",
        "\n",
        "# Selected words for similarity comparison\n",
        "selected_words = ['aspiring', 'human', 'resource']\n",
        "\n",
        "# Tokenize and encode all sentences and selected words together\n",
        "tokenized_texts = tokenizer(df['job_title'].tolist(), padding=True, truncation=True, return_tensors='pt')\n",
        "tokenized_selected_words = tokenizer(selected_words, padding=True, truncation=True, return_tensors='pt')\n",
        "\n",
        "# Obtain BERT embeddings for all tokens\n",
        "with torch.no_grad():\n",
        "    outputs = model(**tokenized_texts)\n",
        "    sentence_embeddings = outputs.last_hidden_state[:, 0, :].numpy()  # Sentence embeddings\n",
        "\n",
        "    outputs_selected_words = model(**tokenized_selected_words)\n",
        "    word_embeddings = outputs_selected_words.last_hidden_state[:, 0, :].numpy()  # Word embeddings\n",
        "\n",
        "# Calculate cosine similarity between sentence embedding and word embeddings\n",
        "similarity_scores = []\n",
        "for i in range(len(df)):\n",
        "    sentence_embedding = sentence_embeddings[i]\n",
        "    scores = {}\n",
        "    for j, word in enumerate(selected_words):\n",
        "        word_embedding = word_embeddings[j]\n",
        "        score = cosine_similarity(sentence_embedding.reshape(1, -1), word_embedding.reshape(1, -1)).item()\n",
        "        scores[word] = score\n",
        "    similarity_scores.append(scores)\n",
        "\n",
        "# Reshape similarity scores and convert to DataFrame\n",
        "similarity_scores = pd.DataFrame(similarity_scores, index=range(len(df)))\n",
        "similarity_scores.columns = selected_words\n",
        "\n",
        "# Merge similarity scores with the original DataFrame\n",
        "df = pd.concat([df, similarity_scores], axis=1)\n",
        "\n",
        "print(df)\n"
      ],
      "metadata": {
        "colab": {
          "base_uri": "https://localhost:8080/"
        },
        "id": "Omhv_QCcNL_U",
        "outputId": "e858f27d-3598-4f6b-987c-b046b6d041dc"
      },
      "execution_count": 139,
      "outputs": [
        {
          "output_type": "stream",
          "name": "stderr",
          "text": [
            "Some weights of the model checkpoint at bert-base-uncased were not used when initializing BertModel: ['cls.predictions.transform.dense.bias', 'cls.predictions.transform.LayerNorm.bias', 'cls.predictions.transform.dense.weight', 'cls.seq_relationship.weight', 'cls.predictions.bias', 'cls.seq_relationship.bias', 'cls.predictions.transform.LayerNorm.weight', 'cls.predictions.decoder.weight']\n",
            "- This IS expected if you are initializing BertModel from the checkpoint of a model trained on another task or with another architecture (e.g. initializing a BertForSequenceClassification model from a BertForPreTraining model).\n",
            "- This IS NOT expected if you are initializing BertModel from the checkpoint of a model that you expect to be exactly identical (initializing a BertForSequenceClassification model from a BertForSequenceClassification model).\n"
          ]
        },
        {
          "output_type": "stream",
          "name": "stdout",
          "text": [
            "      id                                          job_title  \\\n",
            "0      1  2019 bauer college business graduate magna cum...   \n",
            "1      2  native english teacher epik english program korea   \n",
            "2      3               aspiring human resource professional   \n",
            "3      4                people development coordinator ryan   \n",
            "4      5       advisory board member celal bayar university   \n",
            "..   ...                                                ...   \n",
            "99   100  aspiring human resource manager graduating may...   \n",
            "100  101                  human resource generalist loparex   \n",
            "101  102           business intelligence analytics traveler   \n",
            "102  103                                 always set success   \n",
            "103  104         director administration excellence logging   \n",
            "\n",
            "                                location  connection  fit  similarities  \\\n",
            "0                         Houston, Texas    0.168337  NaN      0.724779   \n",
            "1                                 Kanada    1.000000  NaN      0.202076   \n",
            "2    Raleigh-Durham, North Carolina Area    0.086172  NaN      1.000000   \n",
            "3                          Denton, Texas    1.000000  NaN      0.000000   \n",
            "4                         İzmir, Türkiye    1.000000  NaN      0.100613   \n",
            "..                                   ...         ...  ...           ...   \n",
            "99              Cape Girardeau, Missouri    0.204409  NaN      0.763307   \n",
            "100  Raleigh-Durham, North Carolina Area    1.000000  NaN      0.571095   \n",
            "101           Greater New York City Area    0.096192  NaN      0.144199   \n",
            "102             Greater Los Angeles Area    1.000000  NaN      0.067711   \n",
            "103                          Katy, Texas    1.000000  NaN      0.157175   \n",
            "\n",
            "      ranking  aspiring     human  resource  \n",
            "0    0.165205  0.802823  0.849149  0.811189  \n",
            "1    0.273624  0.852012  0.874882  0.874288  \n",
            "2    0.116683  0.760295  0.807430  0.757689  \n",
            "3    0.000000  0.853755  0.899812  0.868571  \n",
            "4    0.136236  0.794921  0.843250  0.816467  \n",
            "..        ...       ...       ...       ...  \n",
            "99   0.211271  0.838061  0.859558  0.834896  \n",
            "100  0.773300  0.877896  0.889282  0.903404  \n",
            "101  0.018782  0.804152  0.825705  0.826928  \n",
            "102  0.091685  0.899794  0.882496  0.900282  \n",
            "103  0.212826  0.901227  0.879745  0.908833  \n",
            "\n",
            "[104 rows x 10 columns]\n"
          ]
        }
      ]
    },
    {
      "cell_type": "code",
      "source": [
        "df.head()"
      ],
      "metadata": {
        "colab": {
          "base_uri": "https://localhost:8080/",
          "height": 319
        },
        "id": "vn_-GYiySJ1N",
        "outputId": "86b1bfe6-71f9-4d75-b814-fca073bcaf78"
      },
      "execution_count": 140,
      "outputs": [
        {
          "output_type": "execute_result",
          "data": {
            "text/plain": [
              "   id                                          job_title  \\\n",
              "0   1  2019 bauer college business graduate magna cum...   \n",
              "1   2  native english teacher epik english program korea   \n",
              "2   3               aspiring human resource professional   \n",
              "3   4                people development coordinator ryan   \n",
              "4   5       advisory board member celal bayar university   \n",
              "\n",
              "                              location  connection  fit  similarities  \\\n",
              "0                       Houston, Texas    0.168337  NaN      0.724779   \n",
              "1                               Kanada    1.000000  NaN      0.202076   \n",
              "2  Raleigh-Durham, North Carolina Area    0.086172  NaN      1.000000   \n",
              "3                        Denton, Texas    1.000000  NaN      0.000000   \n",
              "4                       İzmir, Türkiye    1.000000  NaN      0.100613   \n",
              "\n",
              "    ranking  aspiring     human  resource  \n",
              "0  0.165205  0.802823  0.849149  0.811189  \n",
              "1  0.273624  0.852012  0.874882  0.874288  \n",
              "2  0.116683  0.760295  0.807430  0.757689  \n",
              "3  0.000000  0.853755  0.899812  0.868571  \n",
              "4  0.136236  0.794921  0.843250  0.816467  "
            ],
            "text/html": [
              "\n",
              "  <div id=\"df-6bb3daaa-608e-4dc4-b3cf-84799894fefc\">\n",
              "    <div class=\"colab-df-container\">\n",
              "      <div>\n",
              "<style scoped>\n",
              "    .dataframe tbody tr th:only-of-type {\n",
              "        vertical-align: middle;\n",
              "    }\n",
              "\n",
              "    .dataframe tbody tr th {\n",
              "        vertical-align: top;\n",
              "    }\n",
              "\n",
              "    .dataframe thead th {\n",
              "        text-align: right;\n",
              "    }\n",
              "</style>\n",
              "<table border=\"1\" class=\"dataframe\">\n",
              "  <thead>\n",
              "    <tr style=\"text-align: right;\">\n",
              "      <th></th>\n",
              "      <th>id</th>\n",
              "      <th>job_title</th>\n",
              "      <th>location</th>\n",
              "      <th>connection</th>\n",
              "      <th>fit</th>\n",
              "      <th>similarities</th>\n",
              "      <th>ranking</th>\n",
              "      <th>aspiring</th>\n",
              "      <th>human</th>\n",
              "      <th>resource</th>\n",
              "    </tr>\n",
              "  </thead>\n",
              "  <tbody>\n",
              "    <tr>\n",
              "      <th>0</th>\n",
              "      <td>1</td>\n",
              "      <td>2019 bauer college business graduate magna cum...</td>\n",
              "      <td>Houston, Texas</td>\n",
              "      <td>0.168337</td>\n",
              "      <td>NaN</td>\n",
              "      <td>0.724779</td>\n",
              "      <td>0.165205</td>\n",
              "      <td>0.802823</td>\n",
              "      <td>0.849149</td>\n",
              "      <td>0.811189</td>\n",
              "    </tr>\n",
              "    <tr>\n",
              "      <th>1</th>\n",
              "      <td>2</td>\n",
              "      <td>native english teacher epik english program korea</td>\n",
              "      <td>Kanada</td>\n",
              "      <td>1.000000</td>\n",
              "      <td>NaN</td>\n",
              "      <td>0.202076</td>\n",
              "      <td>0.273624</td>\n",
              "      <td>0.852012</td>\n",
              "      <td>0.874882</td>\n",
              "      <td>0.874288</td>\n",
              "    </tr>\n",
              "    <tr>\n",
              "      <th>2</th>\n",
              "      <td>3</td>\n",
              "      <td>aspiring human resource professional</td>\n",
              "      <td>Raleigh-Durham, North Carolina Area</td>\n",
              "      <td>0.086172</td>\n",
              "      <td>NaN</td>\n",
              "      <td>1.000000</td>\n",
              "      <td>0.116683</td>\n",
              "      <td>0.760295</td>\n",
              "      <td>0.807430</td>\n",
              "      <td>0.757689</td>\n",
              "    </tr>\n",
              "    <tr>\n",
              "      <th>3</th>\n",
              "      <td>4</td>\n",
              "      <td>people development coordinator ryan</td>\n",
              "      <td>Denton, Texas</td>\n",
              "      <td>1.000000</td>\n",
              "      <td>NaN</td>\n",
              "      <td>0.000000</td>\n",
              "      <td>0.000000</td>\n",
              "      <td>0.853755</td>\n",
              "      <td>0.899812</td>\n",
              "      <td>0.868571</td>\n",
              "    </tr>\n",
              "    <tr>\n",
              "      <th>4</th>\n",
              "      <td>5</td>\n",
              "      <td>advisory board member celal bayar university</td>\n",
              "      <td>İzmir, Türkiye</td>\n",
              "      <td>1.000000</td>\n",
              "      <td>NaN</td>\n",
              "      <td>0.100613</td>\n",
              "      <td>0.136236</td>\n",
              "      <td>0.794921</td>\n",
              "      <td>0.843250</td>\n",
              "      <td>0.816467</td>\n",
              "    </tr>\n",
              "  </tbody>\n",
              "</table>\n",
              "</div>\n",
              "      <button class=\"colab-df-convert\" onclick=\"convertToInteractive('df-6bb3daaa-608e-4dc4-b3cf-84799894fefc')\"\n",
              "              title=\"Convert this dataframe to an interactive table.\"\n",
              "              style=\"display:none;\">\n",
              "        \n",
              "  <svg xmlns=\"http://www.w3.org/2000/svg\" height=\"24px\"viewBox=\"0 0 24 24\"\n",
              "       width=\"24px\">\n",
              "    <path d=\"M0 0h24v24H0V0z\" fill=\"none\"/>\n",
              "    <path d=\"M18.56 5.44l.94 2.06.94-2.06 2.06-.94-2.06-.94-.94-2.06-.94 2.06-2.06.94zm-11 1L8.5 8.5l.94-2.06 2.06-.94-2.06-.94L8.5 2.5l-.94 2.06-2.06.94zm10 10l.94 2.06.94-2.06 2.06-.94-2.06-.94-.94-2.06-.94 2.06-2.06.94z\"/><path d=\"M17.41 7.96l-1.37-1.37c-.4-.4-.92-.59-1.43-.59-.52 0-1.04.2-1.43.59L10.3 9.45l-7.72 7.72c-.78.78-.78 2.05 0 2.83L4 21.41c.39.39.9.59 1.41.59.51 0 1.02-.2 1.41-.59l7.78-7.78 2.81-2.81c.8-.78.8-2.07 0-2.86zM5.41 20L4 18.59l7.72-7.72 1.47 1.35L5.41 20z\"/>\n",
              "  </svg>\n",
              "      </button>\n",
              "      \n",
              "  <style>\n",
              "    .colab-df-container {\n",
              "      display:flex;\n",
              "      flex-wrap:wrap;\n",
              "      gap: 12px;\n",
              "    }\n",
              "\n",
              "    .colab-df-convert {\n",
              "      background-color: #E8F0FE;\n",
              "      border: none;\n",
              "      border-radius: 50%;\n",
              "      cursor: pointer;\n",
              "      display: none;\n",
              "      fill: #1967D2;\n",
              "      height: 32px;\n",
              "      padding: 0 0 0 0;\n",
              "      width: 32px;\n",
              "    }\n",
              "\n",
              "    .colab-df-convert:hover {\n",
              "      background-color: #E2EBFA;\n",
              "      box-shadow: 0px 1px 2px rgba(60, 64, 67, 0.3), 0px 1px 3px 1px rgba(60, 64, 67, 0.15);\n",
              "      fill: #174EA6;\n",
              "    }\n",
              "\n",
              "    [theme=dark] .colab-df-convert {\n",
              "      background-color: #3B4455;\n",
              "      fill: #D2E3FC;\n",
              "    }\n",
              "\n",
              "    [theme=dark] .colab-df-convert:hover {\n",
              "      background-color: #434B5C;\n",
              "      box-shadow: 0px 1px 3px 1px rgba(0, 0, 0, 0.15);\n",
              "      filter: drop-shadow(0px 1px 2px rgba(0, 0, 0, 0.3));\n",
              "      fill: #FFFFFF;\n",
              "    }\n",
              "  </style>\n",
              "\n",
              "      <script>\n",
              "        const buttonEl =\n",
              "          document.querySelector('#df-6bb3daaa-608e-4dc4-b3cf-84799894fefc button.colab-df-convert');\n",
              "        buttonEl.style.display =\n",
              "          google.colab.kernel.accessAllowed ? 'block' : 'none';\n",
              "\n",
              "        async function convertToInteractive(key) {\n",
              "          const element = document.querySelector('#df-6bb3daaa-608e-4dc4-b3cf-84799894fefc');\n",
              "          const dataTable =\n",
              "            await google.colab.kernel.invokeFunction('convertToInteractive',\n",
              "                                                     [key], {});\n",
              "          if (!dataTable) return;\n",
              "\n",
              "          const docLinkHtml = 'Like what you see? Visit the ' +\n",
              "            '<a target=\"_blank\" href=https://colab.research.google.com/notebooks/data_table.ipynb>data table notebook</a>'\n",
              "            + ' to learn more about interactive tables.';\n",
              "          element.innerHTML = '';\n",
              "          dataTable['output_type'] = 'display_data';\n",
              "          await google.colab.output.renderOutput(dataTable, element);\n",
              "          const docLink = document.createElement('div');\n",
              "          docLink.innerHTML = docLinkHtml;\n",
              "          element.appendChild(docLink);\n",
              "        }\n",
              "      </script>\n",
              "    </div>\n",
              "  </div>\n",
              "  "
            ]
          },
          "metadata": {},
          "execution_count": 140
        }
      ]
    },
    {
      "cell_type": "code",
      "source": [
        "df['avarage'] = (df['aspiring'] + df['human'] + df['resource'])/3"
      ],
      "metadata": {
        "id": "wHrfueOacsjP"
      },
      "execution_count": 142,
      "outputs": []
    },
    {
      "cell_type": "code",
      "source": [
        "df.head()"
      ],
      "metadata": {
        "colab": {
          "base_uri": "https://localhost:8080/",
          "height": 337
        },
        "id": "GbymuktydM1o",
        "outputId": "a8e0ca88-59b0-42a0-ab09-fa19a26305f0"
      },
      "execution_count": 143,
      "outputs": [
        {
          "output_type": "execute_result",
          "data": {
            "text/plain": [
              "   id                                          job_title  \\\n",
              "0   1  2019 bauer college business graduate magna cum...   \n",
              "1   2  native english teacher epik english program korea   \n",
              "2   3               aspiring human resource professional   \n",
              "3   4                people development coordinator ryan   \n",
              "4   5       advisory board member celal bayar university   \n",
              "\n",
              "                              location  connection  fit  similarities  \\\n",
              "0                       Houston, Texas    0.168337  NaN      0.724779   \n",
              "1                               Kanada    1.000000  NaN      0.202076   \n",
              "2  Raleigh-Durham, North Carolina Area    0.086172  NaN      1.000000   \n",
              "3                        Denton, Texas    1.000000  NaN      0.000000   \n",
              "4                       İzmir, Türkiye    1.000000  NaN      0.100613   \n",
              "\n",
              "    ranking  aspiring     human  resource   avarage  \n",
              "0  0.165205  0.802823  0.849149  0.811189  0.821054  \n",
              "1  0.273624  0.852012  0.874882  0.874288  0.867061  \n",
              "2  0.116683  0.760295  0.807430  0.757689  0.775138  \n",
              "3  0.000000  0.853755  0.899812  0.868571  0.874046  \n",
              "4  0.136236  0.794921  0.843250  0.816467  0.818213  "
            ],
            "text/html": [
              "\n",
              "  <div id=\"df-58ea4817-9261-402a-aa94-96524e4583a6\">\n",
              "    <div class=\"colab-df-container\">\n",
              "      <div>\n",
              "<style scoped>\n",
              "    .dataframe tbody tr th:only-of-type {\n",
              "        vertical-align: middle;\n",
              "    }\n",
              "\n",
              "    .dataframe tbody tr th {\n",
              "        vertical-align: top;\n",
              "    }\n",
              "\n",
              "    .dataframe thead th {\n",
              "        text-align: right;\n",
              "    }\n",
              "</style>\n",
              "<table border=\"1\" class=\"dataframe\">\n",
              "  <thead>\n",
              "    <tr style=\"text-align: right;\">\n",
              "      <th></th>\n",
              "      <th>id</th>\n",
              "      <th>job_title</th>\n",
              "      <th>location</th>\n",
              "      <th>connection</th>\n",
              "      <th>fit</th>\n",
              "      <th>similarities</th>\n",
              "      <th>ranking</th>\n",
              "      <th>aspiring</th>\n",
              "      <th>human</th>\n",
              "      <th>resource</th>\n",
              "      <th>avarage</th>\n",
              "    </tr>\n",
              "  </thead>\n",
              "  <tbody>\n",
              "    <tr>\n",
              "      <th>0</th>\n",
              "      <td>1</td>\n",
              "      <td>2019 bauer college business graduate magna cum...</td>\n",
              "      <td>Houston, Texas</td>\n",
              "      <td>0.168337</td>\n",
              "      <td>NaN</td>\n",
              "      <td>0.724779</td>\n",
              "      <td>0.165205</td>\n",
              "      <td>0.802823</td>\n",
              "      <td>0.849149</td>\n",
              "      <td>0.811189</td>\n",
              "      <td>0.821054</td>\n",
              "    </tr>\n",
              "    <tr>\n",
              "      <th>1</th>\n",
              "      <td>2</td>\n",
              "      <td>native english teacher epik english program korea</td>\n",
              "      <td>Kanada</td>\n",
              "      <td>1.000000</td>\n",
              "      <td>NaN</td>\n",
              "      <td>0.202076</td>\n",
              "      <td>0.273624</td>\n",
              "      <td>0.852012</td>\n",
              "      <td>0.874882</td>\n",
              "      <td>0.874288</td>\n",
              "      <td>0.867061</td>\n",
              "    </tr>\n",
              "    <tr>\n",
              "      <th>2</th>\n",
              "      <td>3</td>\n",
              "      <td>aspiring human resource professional</td>\n",
              "      <td>Raleigh-Durham, North Carolina Area</td>\n",
              "      <td>0.086172</td>\n",
              "      <td>NaN</td>\n",
              "      <td>1.000000</td>\n",
              "      <td>0.116683</td>\n",
              "      <td>0.760295</td>\n",
              "      <td>0.807430</td>\n",
              "      <td>0.757689</td>\n",
              "      <td>0.775138</td>\n",
              "    </tr>\n",
              "    <tr>\n",
              "      <th>3</th>\n",
              "      <td>4</td>\n",
              "      <td>people development coordinator ryan</td>\n",
              "      <td>Denton, Texas</td>\n",
              "      <td>1.000000</td>\n",
              "      <td>NaN</td>\n",
              "      <td>0.000000</td>\n",
              "      <td>0.000000</td>\n",
              "      <td>0.853755</td>\n",
              "      <td>0.899812</td>\n",
              "      <td>0.868571</td>\n",
              "      <td>0.874046</td>\n",
              "    </tr>\n",
              "    <tr>\n",
              "      <th>4</th>\n",
              "      <td>5</td>\n",
              "      <td>advisory board member celal bayar university</td>\n",
              "      <td>İzmir, Türkiye</td>\n",
              "      <td>1.000000</td>\n",
              "      <td>NaN</td>\n",
              "      <td>0.100613</td>\n",
              "      <td>0.136236</td>\n",
              "      <td>0.794921</td>\n",
              "      <td>0.843250</td>\n",
              "      <td>0.816467</td>\n",
              "      <td>0.818213</td>\n",
              "    </tr>\n",
              "  </tbody>\n",
              "</table>\n",
              "</div>\n",
              "      <button class=\"colab-df-convert\" onclick=\"convertToInteractive('df-58ea4817-9261-402a-aa94-96524e4583a6')\"\n",
              "              title=\"Convert this dataframe to an interactive table.\"\n",
              "              style=\"display:none;\">\n",
              "        \n",
              "  <svg xmlns=\"http://www.w3.org/2000/svg\" height=\"24px\"viewBox=\"0 0 24 24\"\n",
              "       width=\"24px\">\n",
              "    <path d=\"M0 0h24v24H0V0z\" fill=\"none\"/>\n",
              "    <path d=\"M18.56 5.44l.94 2.06.94-2.06 2.06-.94-2.06-.94-.94-2.06-.94 2.06-2.06.94zm-11 1L8.5 8.5l.94-2.06 2.06-.94-2.06-.94L8.5 2.5l-.94 2.06-2.06.94zm10 10l.94 2.06.94-2.06 2.06-.94-2.06-.94-.94-2.06-.94 2.06-2.06.94z\"/><path d=\"M17.41 7.96l-1.37-1.37c-.4-.4-.92-.59-1.43-.59-.52 0-1.04.2-1.43.59L10.3 9.45l-7.72 7.72c-.78.78-.78 2.05 0 2.83L4 21.41c.39.39.9.59 1.41.59.51 0 1.02-.2 1.41-.59l7.78-7.78 2.81-2.81c.8-.78.8-2.07 0-2.86zM5.41 20L4 18.59l7.72-7.72 1.47 1.35L5.41 20z\"/>\n",
              "  </svg>\n",
              "      </button>\n",
              "      \n",
              "  <style>\n",
              "    .colab-df-container {\n",
              "      display:flex;\n",
              "      flex-wrap:wrap;\n",
              "      gap: 12px;\n",
              "    }\n",
              "\n",
              "    .colab-df-convert {\n",
              "      background-color: #E8F0FE;\n",
              "      border: none;\n",
              "      border-radius: 50%;\n",
              "      cursor: pointer;\n",
              "      display: none;\n",
              "      fill: #1967D2;\n",
              "      height: 32px;\n",
              "      padding: 0 0 0 0;\n",
              "      width: 32px;\n",
              "    }\n",
              "\n",
              "    .colab-df-convert:hover {\n",
              "      background-color: #E2EBFA;\n",
              "      box-shadow: 0px 1px 2px rgba(60, 64, 67, 0.3), 0px 1px 3px 1px rgba(60, 64, 67, 0.15);\n",
              "      fill: #174EA6;\n",
              "    }\n",
              "\n",
              "    [theme=dark] .colab-df-convert {\n",
              "      background-color: #3B4455;\n",
              "      fill: #D2E3FC;\n",
              "    }\n",
              "\n",
              "    [theme=dark] .colab-df-convert:hover {\n",
              "      background-color: #434B5C;\n",
              "      box-shadow: 0px 1px 3px 1px rgba(0, 0, 0, 0.15);\n",
              "      filter: drop-shadow(0px 1px 2px rgba(0, 0, 0, 0.3));\n",
              "      fill: #FFFFFF;\n",
              "    }\n",
              "  </style>\n",
              "\n",
              "      <script>\n",
              "        const buttonEl =\n",
              "          document.querySelector('#df-58ea4817-9261-402a-aa94-96524e4583a6 button.colab-df-convert');\n",
              "        buttonEl.style.display =\n",
              "          google.colab.kernel.accessAllowed ? 'block' : 'none';\n",
              "\n",
              "        async function convertToInteractive(key) {\n",
              "          const element = document.querySelector('#df-58ea4817-9261-402a-aa94-96524e4583a6');\n",
              "          const dataTable =\n",
              "            await google.colab.kernel.invokeFunction('convertToInteractive',\n",
              "                                                     [key], {});\n",
              "          if (!dataTable) return;\n",
              "\n",
              "          const docLinkHtml = 'Like what you see? Visit the ' +\n",
              "            '<a target=\"_blank\" href=https://colab.research.google.com/notebooks/data_table.ipynb>data table notebook</a>'\n",
              "            + ' to learn more about interactive tables.';\n",
              "          element.innerHTML = '';\n",
              "          dataTable['output_type'] = 'display_data';\n",
              "          await google.colab.output.renderOutput(dataTable, element);\n",
              "          const docLink = document.createElement('div');\n",
              "          docLink.innerHTML = docLinkHtml;\n",
              "          element.appendChild(docLink);\n",
              "        }\n",
              "      </script>\n",
              "    </div>\n",
              "  </div>\n",
              "  "
            ]
          },
          "metadata": {},
          "execution_count": 143
        }
      ]
    },
    {
      "cell_type": "code",
      "source": [
        "from sklearn.preprocessing import MinMaxScaler\n",
        "\n",
        "#Select the input features for ranking\n",
        "features = ['avarage', 'connection']\n",
        "\n",
        "# Replace '500+' with 500 in the 'connections' column\n",
        "df['connection'] = df['connection'].replace('500+ ', '500')\n",
        "\n",
        "df['connection'] = pd.to_numeric(df['connection'])\n",
        "\n",
        "# Scale the 'connections' column to a range of 0 to 1\n",
        "scaler = MinMaxScaler()\n",
        "df['connection'] = scaler.fit_transform(df['connection'].values.reshape(-1, 1))\n",
        "\n",
        "# Normalize the remaining features to a range of 0 to 1\n",
        "df[features] = scaler.fit_transform(df[features])\n",
        "\n",
        "# Calculate the ranking score\n",
        "df['ranking_BERT'] = df['avarage'] * df['connection']\n",
        "\n",
        "# Normalize the ranking score to a range of 0 to 1\n",
        "df['ranking_BERT'] = scaler.fit_transform(df['ranking_BERT'].values.reshape(-1, 1))\n",
        "\n",
        "# Print the ranked candidates\n",
        "print(df[['job_title', 'ranking','ranking_BERT']])\n"
      ],
      "metadata": {
        "colab": {
          "base_uri": "https://localhost:8080/"
        },
        "id": "KPb7uE1VdOGC",
        "outputId": "75a9a42a-f278-4439-f569-0ec98056ff3a"
      },
      "execution_count": 144,
      "outputs": [
        {
          "output_type": "stream",
          "name": "stdout",
          "text": [
            "                                             job_title   ranking  ranking_BERT\n",
            "0    2019 bauer college business graduate magna cum...  0.165205      0.094319\n",
            "1    native english teacher epik english program korea  0.273624      0.745856\n",
            "2                 aspiring human resource professional  0.116683      0.032324\n",
            "3                  people development coordinator ryan  0.000000      0.774029\n",
            "4         advisory board member celal bayar university  0.136236      0.548840\n",
            "..                                                 ...       ...           ...\n",
            "99   aspiring human resource manager graduating may...  0.211271      0.133589\n",
            "100                  human resource generalist loparex  0.773300      0.839160\n",
            "101           business intelligence analytics traveler  0.018782      0.053072\n",
            "102                                 always set success  0.091685      0.855278\n",
            "103         director administration excellence logging  0.212826      0.865002\n",
            "\n",
            "[104 rows x 3 columns]\n"
          ]
        }
      ]
    },
    {
      "cell_type": "code",
      "source": [
        "# Sort the DataFrame in ascending order based on a column\n",
        "df_sorted = df.sort_values('ranking', ascending=False)\n",
        "\n",
        "# Print the sorted DataFrame\n",
        "print(df_sorted[['job_title', 'ranking','ranking_BERT']])"
      ],
      "metadata": {
        "colab": {
          "base_uri": "https://localhost:8080/"
        },
        "id": "5e3oPJpWdoMP",
        "outputId": "bad33362-736a-4dc4-d389-b593a5ccd79b"
      },
      "execution_count": 146,
      "outputs": [
        {
          "output_type": "stream",
          "name": "stdout",
          "text": [
            "                                             job_title   ranking  ranking_BERT\n",
            "28   aspiring human resource management student see...  1.000000      0.399975\n",
            "26   aspiring human resource management student see...  1.000000      0.399975\n",
            "66     human resource staffing recruiting professional  0.797249      0.743885\n",
            "100                  human resource generalist loparex  0.773300      0.839160\n",
            "70           human resource generalist scottmadden inc  0.729565      0.822557\n",
            "..                                                 ...       ...           ...\n",
            "48                  aspiring human resource specialist  0.000000      0.000000\n",
            "46                 people development coordinator ryan  0.000000      0.774029\n",
            "59                  aspiring human resource specialist  0.000000      0.000000\n",
            "35                  aspiring human resource specialist  0.000000      0.000000\n",
            "21                 people development coordinator ryan  0.000000      0.774029\n",
            "\n",
            "[104 rows x 3 columns]\n"
          ]
        }
      ]
    },
    {
      "cell_type": "code",
      "source": [
        "# Sort the DataFrame in ascending order based on a column\n",
        "df_sorted = df.sort_values('ranking_BERT', ascending=False)\n",
        "\n",
        "# Print the sorted DataFrame\n",
        "print(df_sorted[['job_title', 'ranking','ranking_BERT', 'connection']])"
      ],
      "metadata": {
        "colab": {
          "base_uri": "https://localhost:8080/"
        },
        "id": "meip_uG6dwAD",
        "outputId": "5f18ee39-a020-44d7-9b65-8f90f02b3c4f"
      },
      "execution_count": 149,
      "outputs": [
        {
          "output_type": "stream",
          "name": "stdout",
          "text": [
            "                                             job_title   ranking  \\\n",
            "67                 human resource specialist luxottica  0.712848   \n",
            "77                    human resource generalist schwan  0.650043   \n",
            "103         director administration excellence logging  0.212826   \n",
            "102                                 always set success  0.091685   \n",
            "64   human resource coordinator intercontinental bu...  0.651028   \n",
            "..                                                 ...       ...   \n",
            "48                  aspiring human resource specialist  0.000000   \n",
            "5                   aspiring human resource specialist  0.000000   \n",
            "23                  aspiring human resource specialist  0.000000   \n",
            "59                  aspiring human resource specialist  0.000000   \n",
            "35                  aspiring human resource specialist  0.000000   \n",
            "\n",
            "     ranking_BERT  connection  \n",
            "67       1.000000         1.0  \n",
            "77       0.877701         1.0  \n",
            "103      0.865002         1.0  \n",
            "102      0.855278         1.0  \n",
            "64       0.852687         1.0  \n",
            "..            ...         ...  \n",
            "48       0.000000         0.0  \n",
            "5        0.000000         0.0  \n",
            "23       0.000000         0.0  \n",
            "59       0.000000         0.0  \n",
            "35       0.000000         0.0  \n",
            "\n",
            "[104 rows x 4 columns]\n"
          ]
        }
      ]
    },
    {
      "cell_type": "code",
      "source": [],
      "metadata": {
        "id": "Gnl4rem-d8D9"
      },
      "execution_count": null,
      "outputs": []
    }
  ]
}